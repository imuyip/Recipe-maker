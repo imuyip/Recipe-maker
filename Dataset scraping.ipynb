{
 "cells": [
  {
   "cell_type": "code",
   "execution_count": 1,
   "metadata": {},
   "outputs": [],
   "source": [
    "from time import sleep\n",
    "from selenium import webdriver"
   ]
  },
  {
   "cell_type": "code",
   "execution_count": 7,
   "metadata": {},
   "outputs": [
    {
     "data": {
      "text/plain": [
       "[('13362', '\"Swan\\'s Summer Soup\"'),\n",
       " ('279294', '\"Chicken Taco Soup for Two\"'),\n",
       " ('112310', '\"Italian Ribollita (Vegetable and Bread Soup)\"'),\n",
       " ('50030', '\"French Spring Soup\"'),\n",
       " ('278763', '\"Red Lentil Soup with Lemon-Mint Yogurt\"'),\n",
       " ('272232', '\"Chicken Potato Soup \"'),\n",
       " ('20809', '\"Avocado Soup with Chicken and Lime\"'),\n",
       " ('12965', '\"Curried Carrot Soup\"'),\n",
       " ('263694', '\"Homemade Miso Soup\"'),\n",
       " ('56927', '\"Delicious Ham and Potato Soup\"'),\n",
       " ('8941', '\"Slow Cooker Chicken and Dumplings\"'),\n",
       " ('78299', '\"Boilermaker Tailgate Chili\"'),\n",
       " ('70343', '\"Slow Cooker Chicken Taco Soup\"'),\n",
       " ('89539', '\"Slow-Cooker Chicken Tortilla Soup\"'),\n",
       " ('14685', '\"Slow Cooker Beef Stew I\"'),\n",
       " ('25678', '\"Beef Stew VI\"'),\n",
       " ('16235', '\"Debdoozie\\'s Blue Ribbon Chili\"'),\n",
       " ('12942', '\"Italian Sausage Soup\"'),\n",
       " ('26460', '\"Quick and Easy Chicken Noodle Soup\"'),\n",
       " ('12974', '\"Butternut Squash Soup\"'),\n",
       " ('143069', '\"Super-Delicious Zuppa Toscana\"'),\n",
       " ('14985', '\"It\\'s Chili by George!!\"'),\n",
       " ('13978', '\"Lentil Soup\"'),\n",
       " ('13045', '\"Broccoli Cheese Soup\"'),\n",
       " ('23852', '\"Creamy Chicken and Wild Rice Soup\"'),\n",
       " ('73634', '\"Colleen\\'s Slow Cooker Jambalaya\"'),\n",
       " ('13218', '\"Absolutely Ultimate Potato Soup\"'),\n",
       " ('13436', '\"Italian Sausage Soup with Tortellini\"'),\n",
       " ('13333', '\"Jamie\\'s Minestrone\"')]"
      ]
     },
     "execution_count": 7,
     "metadata": {},
     "output_type": "execute_result"
    }
   ],
   "source": [
    "driver = webdriver.Chrome() #open firefox\n",
    "driver.get('https://www.allrecipes.com/recipes/94/soups-stews-and-chili/') \n",
    "\n",
    "#html_list = br.find_elements_by_class_name(\"fixed-recipe-card\")\n",
    "elems = driver.find_elements_by_css_selector(\".fixed-recipe-card [data-id]\") \n",
    "#the heart contains the unique ID number for the given recipe\n",
    "\n",
    "\n",
    "#for i, e in enumerate(elems):\n",
    "#     \tid.append(e.get_attribute('data-id'))\t\n",
    "#     \turls[i] = 'https://allrecipes.com/recipe/' + str(id[i])\n",
    "        \n",
    "urlsnames = list(map(lambda e: (e.get_attribute('data-id'),e.get_attribute('data-name')), elems))\n",
    "#update list of URLS to the 20 recipe URL for a given year\n",
    "\n",
    "#urls = np.unique(urls)\n",
    "#id = np.unique(id)\n",
    "#remove any repeats\n",
    "\n",
    "#go to each individual recipe to scrape \n",
    "#for i, url in enumerate(urls):\n",
    "#    br.get(url)\n",
    "#    time.sleep(3)\n",
    "#    scrape_recipe(br, year, id[i])\n",
    "\n",
    "driver.close()\n",
    "\n",
    "urlsnames"
   ]
  },
  {
   "cell_type": "code",
   "execution_count": null,
   "metadata": {},
   "outputs": [],
   "source": []
  }
 ],
 "metadata": {
  "kernelspec": {
   "display_name": "Python 3",
   "language": "python",
   "name": "python3"
  },
  "language_info": {
   "codemirror_mode": {
    "name": "ipython",
    "version": 3
   },
   "file_extension": ".py",
   "mimetype": "text/x-python",
   "name": "python",
   "nbconvert_exporter": "python",
   "pygments_lexer": "ipython3",
   "version": "3.7.7"
  }
 },
 "nbformat": 4,
 "nbformat_minor": 4
}
